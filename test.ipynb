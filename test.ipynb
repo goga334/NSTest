{
 "cells": [
  {
   "cell_type": "code",
   "execution_count": 9,
   "id": "4b027c62",
   "metadata": {},
   "outputs": [],
   "source": [
    "import sqlite3\n"
   ]
  },
  {
   "cell_type": "code",
   "execution_count": 46,
   "id": "b2351632",
   "metadata": {},
   "outputs": [],
   "source": [
    "f = open('lib.txt')\n",
    "\n",
    "library = [line[:-1] for line in f]\n",
    "\n",
    "f.close()"
   ]
  },
  {
   "cell_type": "code",
   "execution_count": 99,
   "id": "a8e79e24",
   "metadata": {},
   "outputs": [],
   "source": [
    "conn = sqlite3.connect('library.db')\n",
    "cur = conn.cursor()"
   ]
  },
  {
   "cell_type": "code",
   "execution_count": 106,
   "id": "fcfb4eab",
   "metadata": {},
   "outputs": [],
   "source": [
    "cur.execute(\"\"\"CREATE TABLE IF NOT EXISTS words(\n",
    "   word TEXT);\n",
    "\"\"\")\n",
    "conn.commit()"
   ]
  },
  {
   "cell_type": "code",
   "execution_count": 107,
   "id": "e0fe954b",
   "metadata": {},
   "outputs": [],
   "source": [
    "for i in library:\n",
    "    cur.execute(f\"INSERT INTO words VALUES('{i}');\")\n",
    "    conn.commit()"
   ]
  },
  {
   "cell_type": "code",
   "execution_count": 104,
   "id": "188a1d49",
   "metadata": {},
   "outputs": [],
   "source": [
    "cur.execute(\"\"\"DROP TABLE words;\n",
    "\"\"\")\n",
    "conn.commit()"
   ]
  },
  {
   "cell_type": "code",
   "execution_count": 103,
   "id": "0ce2064f",
   "metadata": {},
   "outputs": [
    {
     "name": "stdout",
     "output_type": "stream",
     "text": [
      "[('content',), ('entitlement',), ('tense',)]\n"
     ]
    }
   ],
   "source": [
    "search = 'en'\n",
    "cur.execute(f\"SELECT * FROM words WHERE word LIKE '%{search}%';\")\n",
    "one_result = cur.fetchall()\n",
    "print(one_result)"
   ]
  },
  {
   "cell_type": "code",
   "execution_count": 55,
   "id": "73aa08df",
   "metadata": {},
   "outputs": [
    {
     "data": {
      "text/plain": [
       "<sqlite3.Cursor at 0x208226d62d0>"
      ]
     },
     "execution_count": 55,
     "metadata": {},
     "output_type": "execute_result"
    }
   ],
   "source": [
    "res"
   ]
  },
  {
   "cell_type": "code",
   "execution_count": 45,
   "id": "591a03d8",
   "metadata": {},
   "outputs": [
    {
     "data": {
      "text/plain": [
       "['hostile',\n",
       " 'collapse',\n",
       " 'tribe',\n",
       " 'bow',\n",
       " 'factory',\n",
       " 'motivation',\n",
       " 'applied',\n",
       " 'clearance',\n",
       " 'title',\n",
       " 'galaxy',\n",
       " 'chaos',\n",
       " 'heroin',\n",
       " 'small',\n",
       " 'diplomat',\n",
       " 'fire',\n",
       " 'set',\n",
       " 'rough',\n",
       " 'describe',\n",
       " 'shaft',\n",
       " 'timber',\n",
       " 'dinner',\n",
       " 'van',\n",
       " 'exploration',\n",
       " 'multiply',\n",
       " 'fantasy',\n",
       " 'muscle',\n",
       " 'wrestle',\n",
       " 'pull',\n",
       " 'shape',\n",
       " 'gravity',\n",
       " 'upset',\n",
       " 'consumer',\n",
       " 'classify',\n",
       " 'middle',\n",
       " 'driver',\n",
       " 'quarter',\n",
       " 'canvas',\n",
       " 'cassette',\n",
       " 'bat',\n",
       " 'dealer',\n",
       " 'rabbit',\n",
       " 'reverse',\n",
       " 'bare',\n",
       " 'lodge',\n",
       " 'content',\n",
       " 'undress',\n",
       " 'reward',\n",
       " 'toast',\n",
       " 'swallow',\n",
       " 'entitlement',\n",
       " 'litigation',\n",
       " 'cheat',\n",
       " 'poem',\n",
       " 'chimpanzee',\n",
       " 'flash',\n",
       " 'fireplace',\n",
       " 'mist',\n",
       " 'pier',\n",
       " 'tax',\n",
       " 'inhabitant',\n",
       " 'dictate',\n",
       " 'circulate',\n",
       " 'funny',\n",
       " 'by',\n",
       " 'pound',\n",
       " 'AIDS',\n",
       " 'site',\n",
       " 'coincide',\n",
       " 'bring',\n",
       " 'tense',\n",
       " 'mistreat',\n",
       " 'hole',\n",
       " 'square',\n",
       " 'correction',\n",
       " 'fabricate',\n",
       " 'forbid',\n",
       " 'rabbit',\n",
       " 'smash',\n",
       " 'count',\n",
       " 'modernize',\n",
       " 'operation',\n",
       " 'bush',\n",
       " 'clerk',\n",
       " 'practice',\n",
       " 'mutation',\n",
       " 'fill',\n",
       " 'theater',\n",
       " 'grain',\n",
       " 'crude',\n",
       " 'grow',\n",
       " 'infinite',\n",
       " 'archive',\n",
       " 'garlic',\n",
       " 'greet',\n",
       " 'whip',\n",
       " 'role',\n",
       " 'solve',\n",
       " 'flavor',\n",
       " 'adult',\n",
       " 'parado']"
      ]
     },
     "execution_count": 45,
     "metadata": {},
     "output_type": "execute_result"
    }
   ],
   "source": [
    "library"
   ]
  },
  {
   "cell_type": "code",
   "execution_count": 6,
   "id": "779a9018",
   "metadata": {},
   "outputs": [],
   "source": [
    "count = 0\n",
    "result = []\n",
    "letters = 'am'\n",
    "for i in library:\n",
    "    if letters in i:\n",
    "        count +=1\n",
    "        result.append(i)"
   ]
  },
  {
   "cell_type": "code",
   "execution_count": 7,
   "id": "98fd031a",
   "metadata": {},
   "outputs": [
    {
     "data": {
      "text/plain": [
       "2"
      ]
     },
     "execution_count": 7,
     "metadata": {},
     "output_type": "execute_result"
    }
   ],
   "source": [
    "count"
   ]
  },
  {
   "cell_type": "code",
   "execution_count": 8,
   "id": "a205f888",
   "metadata": {},
   "outputs": [
    {
     "data": {
      "text/plain": [
       "['same\\n', 'example\\n']"
      ]
     },
     "execution_count": 8,
     "metadata": {},
     "output_type": "execute_result"
    }
   ],
   "source": [
    "result"
   ]
  },
  {
   "cell_type": "code",
   "execution_count": null,
   "id": "3fe9f414",
   "metadata": {},
   "outputs": [],
   "source": []
  }
 ],
 "metadata": {
  "kernelspec": {
   "display_name": "Python 3",
   "language": "python",
   "name": "python3"
  },
  "language_info": {
   "codemirror_mode": {
    "name": "ipython",
    "version": 3
   },
   "file_extension": ".py",
   "mimetype": "text/x-python",
   "name": "python",
   "nbconvert_exporter": "python",
   "pygments_lexer": "ipython3",
   "version": "3.7.4"
  }
 },
 "nbformat": 4,
 "nbformat_minor": 5
}
